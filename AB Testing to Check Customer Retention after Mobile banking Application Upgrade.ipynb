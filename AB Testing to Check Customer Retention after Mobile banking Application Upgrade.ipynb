{
 "cells": [
  {
   "cell_type": "markdown",
   "id": "d1acdec8",
   "metadata": {},
   "source": [
    "# 1. Mobile banking analysis to check customer retention rate after upgrade "
   ]
  },
  {
   "cell_type": "code",
   "execution_count": 1,
   "id": "40c24c78",
   "metadata": {},
   "outputs": [
    {
     "data": {
      "text/html": [
       "<script>\n",
       "code_show=true; \n",
       "function code_toggle() {\n",
       "    if (code_show){\n",
       "        $('div.cell.code_cell.rendered.selected div.input').hide();\n",
       "    } else {\n",
       "        $('div.cell.code_cell.rendered.selected div.input').show();\n",
       "    }\n",
       "    code_show = !code_show\n",
       "} \n",
       "$( document ).ready(code_toggle);\n",
       "</script>\n",
       "The importance of mobile banking application cannot be overemphasized considering the relevance of digital banking and less in-bank transactions. As customers increase bankwide and the world becomes more digitized, there is need to update the mobile banking application to align with individual's need thus increasing revenue generation and customer's retention rate.\n",
       "Upon update of the mobile banking application, some customers still require re-assurance for enhanced usage.\n",
       "The problem of either updating the application or using the outdated application now becomes an issue.\n",
       "But in this notebook we're going to analyze an AB-test where we automatically upgrade the customers from the outdated application to the updated mobile banking version. \n",
       "In essence, we will analyse its impact on customer's retention rate. Prior to that, there is need to understand the data. \n",
       "Let's load it and preview!\n",
       "\n",
       "In the meantime, to view the code for this video demo on Mobile banking application click <a href=\"javascript:code_toggle()\">here</a>."
      ],
      "text/plain": [
       "<IPython.core.display.HTML object>"
      ]
     },
     "metadata": {},
     "output_type": "display_data"
    },
    {
     "data": {
      "text/html": [
       "<iframe width=\"560\" height=\"315\" src=\"https://www.youtube.com/embed/Abod4eKlV4A;controls=0&amp;showinfo=0\" frameborder=\"0\" allowfullscreen></iframe>"
      ],
      "text/plain": [
       "<IPython.core.display.HTML object>"
      ]
     },
     "execution_count": 1,
     "metadata": {},
     "output_type": "execute_result"
    }
   ],
   "source": [
    "from IPython.display import HTML\n",
    "from IPython.display import display\n",
    "import warnings\n",
    "warnings.filterwarnings(\"ignore\")\n",
    "\n",
    "tag = HTML('''<script>\n",
    "code_show=true; \n",
    "function code_toggle() {\n",
    "    if (code_show){\n",
    "        $('div.cell.code_cell.rendered.selected div.input').hide();\n",
    "    } else {\n",
    "        $('div.cell.code_cell.rendered.selected div.input').show();\n",
    "    }\n",
    "    code_show = !code_show\n",
    "} \n",
    "$( document ).ready(code_toggle);\n",
    "</script>\n",
    "The importance of mobile banking application cannot be overemphasized considering the relevance of digital banking and less in-bank transactions. As customers increase bankwide and the world becomes more digitized, there is need to update the mobile banking application to align with individual's need thus increasing revenue generation and customer's retention rate.\n",
    "Upon update of the mobile banking application, some customers still require re-assurance for enhanced usage.\n",
    "The problem of either updating the application or using the outdated application now becomes an issue.\n",
    "But in this notebook we're going to analyze an AB-test where we automatically upgrade the customers from the outdated application to the updated mobile banking version. \n",
    "In essence, we will analyse its impact on customer's retention rate. Prior to that, there is need to understand the data. \n",
    "Let's load it and preview!\n",
    "\n",
    "In the meantime, to view the code for this video demo on Mobile banking application click <a href=\"javascript:code_toggle()\">here</a>.''')\n",
    "display(tag)\n",
    "\n",
    "############### Write code below ##################\n",
    "# Youtube\n",
    "HTML('<iframe width=\"560\" height=\"315\" src=\"https://www.youtube.com/embed/Abod4eKlV4A;controls=0&amp;showinfo=0\" frameborder=\"0\" allowfullscreen></iframe>')\n"
   ]
  },
  {
   "cell_type": "code",
   "execution_count": 2,
   "id": "46b2083e",
   "metadata": {},
   "outputs": [
    {
     "data": {
      "text/html": [
       "<div>\n",
       "<style scoped>\n",
       "    .dataframe tbody tr th:only-of-type {\n",
       "        vertical-align: middle;\n",
       "    }\n",
       "\n",
       "    .dataframe tbody tr th {\n",
       "        vertical-align: top;\n",
       "    }\n",
       "\n",
       "    .dataframe thead th {\n",
       "        text-align: right;\n",
       "    }\n",
       "</style>\n",
       "<table border=\"1\" class=\"dataframe\">\n",
       "  <thead>\n",
       "    <tr style=\"text-align: right;\">\n",
       "      <th></th>\n",
       "      <th>Customer_ID</th>\n",
       "      <th>Mobile_app_version</th>\n",
       "      <th>Login_count</th>\n",
       "      <th>Customer_retention_30</th>\n",
       "      <th>Customer_retention_60</th>\n",
       "    </tr>\n",
       "  </thead>\n",
       "  <tbody>\n",
       "    <tr>\n",
       "      <th>0</th>\n",
       "      <td>CU116</td>\n",
       "      <td>Updated_version</td>\n",
       "      <td>3</td>\n",
       "      <td>False</td>\n",
       "      <td>False</td>\n",
       "    </tr>\n",
       "    <tr>\n",
       "      <th>1</th>\n",
       "      <td>CU337</td>\n",
       "      <td>Updated_version</td>\n",
       "      <td>38</td>\n",
       "      <td>True</td>\n",
       "      <td>False</td>\n",
       "    </tr>\n",
       "    <tr>\n",
       "      <th>2</th>\n",
       "      <td>CU377</td>\n",
       "      <td>Outdated_version</td>\n",
       "      <td>165</td>\n",
       "      <td>True</td>\n",
       "      <td>False</td>\n",
       "    </tr>\n",
       "    <tr>\n",
       "      <th>3</th>\n",
       "      <td>CU483</td>\n",
       "      <td>Outdated_version</td>\n",
       "      <td>1</td>\n",
       "      <td>False</td>\n",
       "      <td>False</td>\n",
       "    </tr>\n",
       "    <tr>\n",
       "      <th>4</th>\n",
       "      <td>CU488</td>\n",
       "      <td>Outdated_version</td>\n",
       "      <td>179</td>\n",
       "      <td>True</td>\n",
       "      <td>True</td>\n",
       "    </tr>\n",
       "    <tr>\n",
       "      <th>5</th>\n",
       "      <td>CU540</td>\n",
       "      <td>Outdated_version</td>\n",
       "      <td>187</td>\n",
       "      <td>True</td>\n",
       "      <td>True</td>\n",
       "    </tr>\n",
       "    <tr>\n",
       "      <th>6</th>\n",
       "      <td>CU1066</td>\n",
       "      <td>Updated_version</td>\n",
       "      <td>0</td>\n",
       "      <td>False</td>\n",
       "      <td>False</td>\n",
       "    </tr>\n",
       "    <tr>\n",
       "      <th>7</th>\n",
       "      <td>CU1444</td>\n",
       "      <td>Outdated_version</td>\n",
       "      <td>2</td>\n",
       "      <td>False</td>\n",
       "      <td>False</td>\n",
       "    </tr>\n",
       "    <tr>\n",
       "      <th>8</th>\n",
       "      <td>CU1574</td>\n",
       "      <td>Outdated_version</td>\n",
       "      <td>108</td>\n",
       "      <td>True</td>\n",
       "      <td>True</td>\n",
       "    </tr>\n",
       "    <tr>\n",
       "      <th>9</th>\n",
       "      <td>CU1587</td>\n",
       "      <td>Outdated_version</td>\n",
       "      <td>153</td>\n",
       "      <td>True</td>\n",
       "      <td>False</td>\n",
       "    </tr>\n",
       "  </tbody>\n",
       "</table>\n",
       "</div>"
      ],
      "text/plain": [
       "  Customer_ID Mobile_app_version  Login_count  Customer_retention_30  \\\n",
       "0       CU116    Updated_version            3                  False   \n",
       "1       CU337    Updated_version           38                   True   \n",
       "2       CU377   Outdated_version          165                   True   \n",
       "3       CU483   Outdated_version            1                  False   \n",
       "4       CU488   Outdated_version          179                   True   \n",
       "5       CU540   Outdated_version          187                   True   \n",
       "6      CU1066    Updated_version            0                  False   \n",
       "7      CU1444   Outdated_version            2                  False   \n",
       "8      CU1574   Outdated_version          108                   True   \n",
       "9      CU1587   Outdated_version          153                   True   \n",
       "\n",
       "   Customer_retention_60  \n",
       "0                  False  \n",
       "1                  False  \n",
       "2                  False  \n",
       "3                  False  \n",
       "4                   True  \n",
       "5                   True  \n",
       "6                  False  \n",
       "7                  False  \n",
       "8                   True  \n",
       "9                  False  "
      ]
     },
     "execution_count": 2,
     "metadata": {},
     "output_type": "execute_result"
    }
   ],
   "source": [
    "# Importing pandas library\n",
    "import pandas as pd\n",
    "\n",
    "# Read in the data and assign to df\n",
    "df = pd.read_csv(\"C:\\\\Users\\\\Akon.usoh\\\\Desktop\\\\mobile_banking_app.csv\")\n",
    "\n",
    "# Show the first 10 rows\n",
    "df.head(10)"
   ]
  },
  {
   "cell_type": "markdown",
   "id": "f31c1017",
   "metadata": {},
   "source": [
    "# 2. AB-Test Data\n",
    "The data we have is from 90,189 customers that installed the mobile banking application while the AB-test was running. \n",
    "The variables includes:\n",
    "\n",
    "* Customer_ID - a unique identification number that identifies each customer.\n",
    "* Mobile_app_version - whether the customer was amidst the control group (Updated_version) or the other group(Outdated_version).\n",
    "* Login_count - the login count for customer in the first 14 days after installlation\n",
    "* Customer_retention_30 - was the customer retained 30 days after mobile app installation?\n",
    "* Customer_retention_60 - was the customer retained 60 days after mobile app installation?\n",
    "\n",
    "When a customer installed the application, he or she was randomly updated to either the updated version or remained with the outdated application.\n",
    "As a check, let's deep dive to see if there are roughly the same number of customers in each AB group."
   ]
  },
  {
   "cell_type": "code",
   "execution_count": 3,
   "id": "052ba868",
   "metadata": {},
   "outputs": [
    {
     "data": {
      "text/plain": [
       "Mobile_app_version\n",
       "Outdated_version    45489\n",
       "Updated_version     44700\n",
       "Name: Customer_ID, dtype: int64"
      ]
     },
     "execution_count": 3,
     "metadata": {},
     "output_type": "execute_result"
    }
   ],
   "source": [
    "# Count the number of customers in each AB group.\n",
    "df.groupby('Mobile_app_version')['Customer_ID'].count()"
   ]
  },
  {
   "cell_type": "markdown",
   "id": "4c8edb6e",
   "metadata": {},
   "source": [
    "# 3. The distribution of login count\n",
    "\n",
    "Seemingly, there is approximately same number of customers in each mobile banking version, cool!\n",
    "\n",
    "The focus of this analysis will be on how the update affects customer retention, but just for fun: Let's plot the distribution of login count of customers during their first week of mobile app installation.\n"
   ]
  },
  {
   "cell_type": "code",
   "execution_count": 4,
   "id": "b6f06128",
   "metadata": {},
   "outputs": [
    {
     "data": {
      "text/plain": [
       "Text(0.5, 1.0, 'Distribution of Login Count of Customers')"
      ]
     },
     "execution_count": 4,
     "metadata": {},
     "output_type": "execute_result"
    },
    {
     "data": {
      "image/png": "[encoded data removed]",
      "text/plain": [
       "<Figure size 432x288 with 1 Axes>"
      ]
     },
     "metadata": {
      "needs_background": "light"
     },
     "output_type": "display_data"
    }
   ],
   "source": [
    "# Import matplot as this command will makes plots appear in the notebook\n",
    "%matplotlib inline\n",
    "\n",
    "# Count the number of customers per login counts \n",
    "plot_df = df.groupby('Login_count')['Customer_ID'].count()\n",
    "\n",
    "# Plot the distribution of customers that login 0 to 200 counts\n",
    "ax = plot_df.head(n=200).plot(x=\"Login_count\", y=\"Customer_ID\", kind=\"hist\", color='purple')\n",
    "ax.set_xlabel(\"Distribution of Login Count\")\n",
    "ax.set_ylabel(\"Customers\")\n",
    "ax.set_title(\"Distribution of Login Count of Customers\")"
   ]
  },
  {
   "cell_type": "markdown",
   "id": "734b0fb4",
   "metadata": {},
   "source": [
    "# 4. Customer overall 30-day retention rate\n",
    "In the plot above we can see that some customers install the app but then never logged in (0 login count), some customers just logged in a couple of times in their first week, while others got retained!\n",
    "\n",
    "What we want is for customers to get acquainted to the app and get retained. A common metric in any industry is engaging their customers on the mobile banking application for retention via the percentage of customers that comes back to use it days after they have installed it. The higher the retention rate is, the easier it is to retain customers and build a large customer base.\n",
    "\n",
    "As a first step, let's look at what 30-day retention rate is overall."
   ]
  },
  {
   "cell_type": "code",
   "execution_count": 5,
   "id": "3736864c",
   "metadata": {},
   "outputs": [
    {
     "data": {
      "text/plain": [
       "0.4452095044850259"
      ]
     },
     "execution_count": 5,
     "metadata": {},
     "output_type": "execute_result"
    }
   ],
   "source": [
    "# The % of users that came back 30 days after installation\n",
    "df['Customer_retention_30'].mean()"
   ]
  },
  {
   "cell_type": "markdown",
   "id": "e222cd39",
   "metadata": {},
   "source": [
    "# 5. 30-days retention by AB-group\n",
    "\n",
    "So, a little less than half of the customers returned 30 day after installing the application. Now that we have a benchmark, let's observe how 30-days retention differs between the two AB-groups."
   ]
  },
  {
   "cell_type": "code",
   "execution_count": 6,
   "id": "c404fe5d",
   "metadata": {},
   "outputs": [
    {
     "data": {
      "text/plain": [
       "Mobile_app_version\n",
       "Outdated_version    45489\n",
       "Updated_version     44700\n",
       "Name: Customer_ID, dtype: int64"
      ]
     },
     "execution_count": 6,
     "metadata": {},
     "output_type": "execute_result"
    }
   ],
   "source": [
    "# Calculate 30-days retention for each AB-group\n",
    "df.groupby('Mobile_app_version')['Customer_ID'].count()"
   ]
  },
  {
   "cell_type": "markdown",
   "id": "e321b7a1",
   "metadata": {},
   "source": [
    "# 6. Should we be confident in the difference?\n",
    "It appears that there was a slight decrease in 30-day retention when the application was at its Outdated version (44.2%) compared to the control when it was upgraded to an Updated version (44.8%). Though the change is minimal, this can have a large impact. But while we are certain of the difference in the data, how certain should we be that the Outdated version will be worse in the future?\n",
    "\n",
    "There are a couple of ways we can get at the certainty of these retention numbers. Here we will use bootstrapping: We will repeatedly re-sample our dataset (with replacement) and calculate 30-day retention for those samples. The variation in 30-day retention will give us an indication of how uncertain the retention numbers are."
   ]
  },
  {
   "cell_type": "code",
   "execution_count": 7,
   "id": "c49a2d9e",
   "metadata": {},
   "outputs": [
    {
     "data": {
      "text/plain": [
       "<AxesSubplot:ylabel='Density'>"
      ]
     },
     "execution_count": 7,
     "metadata": {},
     "output_type": "execute_result"
    },
    {
     "data": {
      "image/png": "[encoded data removed]",
      "text/plain": [
       "<Figure size 432x288 with 1 Axes>"
      ]
     },
     "metadata": {
      "needs_background": "light"
     },
     "output_type": "display_data"
    }
   ],
   "source": [
    "# Creating an list with bootstrapped means for each AB-group\n",
    "boot_30d = []\n",
    "for i in range(500):\n",
    "    boot_mean =df.sample(frac=1, replace=True).groupby('Mobile_app_version')['Customer_retention_30'].mean()\n",
    "    boot_30d.append(boot_mean)\n",
    "    \n",
    "# Transforming the list to a DataFrame\n",
    "boot_30d = pd.DataFrame(boot_30d)\n",
    "    \n",
    "# A Kernel Density Estimate plot of the bootstrap distributions\n",
    "boot_30d.plot(kind='kde')"
   ]
  },
  {
   "cell_type": "markdown",
   "id": "093c0177",
   "metadata": {},
   "source": [
    "# 7. Zooming in on the difference\n",
    "These two distributions above represent the bootstrap uncertainty over what the underlying 30-day retention could be for the two AB-groups. Just viewing this plot indicates a little evidence of difference. Let's zoom in on the difference in 30-day retention\n",
    "\n",
    "(Note that in this notebook we have limited the number of bootstrap replication to 500 to keep the calculations quick. In \"production\" we would likely increase this to a much larger number, say, 10 000.)"
   ]
  },
  {
   "cell_type": "code",
   "execution_count": 8,
   "id": "18cbd7a7",
   "metadata": {},
   "outputs": [
    {
     "data": {
      "image/png": "[encoded data removed]",
      "text/plain": [
       "<Figure size 432x288 with 1 Axes>"
      ]
     },
     "metadata": {
      "needs_background": "light"
     },
     "output_type": "display_data"
    }
   ],
   "source": [
    "# Add a column with the % difference between the two AB-groups\n",
    "boot_30d['diff'] = (boot_30d['Updated_version'] - boot_30d['Outdated_version']) /  boot_30d['Outdated_version'] * 100\n",
    "\n",
    "# Ploting the bootstrap % difference\n",
    "ax = boot_30d['diff'].plot(kind = 'kde')"
   ]
  },
  {
   "cell_type": "markdown",
   "id": "963913c2",
   "metadata": {},
   "source": [
    "# 8. The probability of a difference\n",
    "\n",
    "From this chart, we can see that the most likely % difference is around 1% - 2%, and that most of the distribution is above 0%, in favor of the Updated_version. But what is the probability that the difference is above 0%? Let's calculate that as well."
   ]
  },
  {
   "cell_type": "code",
   "execution_count": 9,
   "id": "ff522192",
   "metadata": {},
   "outputs": [
    {
     "data": {
      "text/plain": [
       "'96.2%'"
      ]
     },
     "execution_count": 9,
     "metadata": {},
     "output_type": "execute_result"
    }
   ],
   "source": [
    "# Calculate the probability that 30-day retention is greater when the application is updated\n",
    "prob = (boot_30d['diff'] > 0).mean()\n",
    "\n",
    "# Pretty printing the probability\n",
    "'{:.1%}'.format(prob)"
   ]
  },
  {
   "cell_type": "markdown",
   "id": "62328e14",
   "metadata": {},
   "source": [
    "# 9. 60-day retention by AB-group\n",
    "The bootstrap analysis tells us that there is a high probability that 1-day retention is better when the application is Updated. However, since customers have only installed the application within 30 days, it is likely that most customers haven't been updated yet.\n",
    "\n",
    "But after usage for 60 days, it is necessary to know what percentage of the people that installed the application also showed up 60 days later to use the application again.\n",
    "\n",
    "Let's start by calculating 60-day retention for the two AB-groups."
   ]
  },
  {
   "cell_type": "code",
   "execution_count": 10,
   "id": "fc3126b3",
   "metadata": {},
   "outputs": [
    {
     "data": {
      "text/plain": [
       "Mobile_app_version\n",
       "Outdated_version    0.182000\n",
       "Updated_version     0.190201\n",
       "dtype: float64"
      ]
     },
     "execution_count": 10,
     "metadata": {},
     "output_type": "execute_result"
    }
   ],
   "source": [
    "# Calculate 60-day retention for both AB-groups\n",
    "df.groupby('Mobile_app_version')['Customer_retention_60'].sum() / df.groupby('Mobile_app_version')['Customer_ID'].count()"
   ]
  },
  {
   "cell_type": "markdown",
   "id": "c656c2da",
   "metadata": {},
   "source": [
    "# 10. Bootstrapping the difference again\n",
    "Like with 30-day retention, we see that 60-day retention is slightly lower (18.2%) when the application is Outdated than when the application is updated (19.0%). \n",
    "But as before, let's use bootstrap analysis to figure out how certain we should be of the difference between the AB-groups."
   ]
  },
  {
   "cell_type": "code",
   "execution_count": 11,
   "id": "891a4514",
   "metadata": {},
   "outputs": [
    {
     "data": {
      "text/plain": [
       "'100.0%'"
      ]
     },
     "execution_count": 11,
     "metadata": {},
     "output_type": "execute_result"
    },
    {
     "data": {
      "image/png": "[encoded data removed]",
      "text/plain": [
       "<Figure size 432x288 with 1 Axes>"
      ]
     },
     "metadata": {
      "needs_background": "light"
     },
     "output_type": "display_data"
    }
   ],
   "source": [
    "# Creating a list with bootstrapped means for each AB-group\n",
    "boot_60d = []\n",
    "for i in range(500):\n",
    "    boot_mean =df.sample(frac=1, replace=True).groupby('Mobile_app_version')['Customer_retention_60'].mean()\n",
    "    boot_60d.append(boot_mean)\n",
    "    \n",
    "# Transforming the list to a DataFrame\n",
    "boot_60d = pd.DataFrame(boot_60d)\n",
    "\n",
    "# Adding a column with the % difference between the two AB-groups\n",
    "boot_60d['diff'] = (boot_60d['Updated_version'] - boot_60d['Outdated_version']) / boot_60d['Outdated_version'] * 100\n",
    "\n",
    "# Plot the bootstrap % difference\n",
    "ax = boot_60d['diff'].plot(kind='kde')\n",
    "ax.set_xlabel(\"% difference in means\")\n",
    "\n",
    "# Calculate the probability that 60-day retention is greater when the application is updated.\n",
    "prob = (boot_60d['diff'] > 0).mean()\n",
    "\n",
    "# Pretty printing the probability\n",
    "'{:.1%}'.format(prob)"
   ]
  },
  {
   "cell_type": "markdown",
   "id": "f38ad6b4",
   "metadata": {},
   "source": [
    "# 11. The conclusion\n",
    "The bootstrap result tells us that there is strong evidence that 60-day retention is higher when the application is updated than when it is still outdated. The conclusion is: If we want to keep retention high — both 30-day and 60-day retention — we should encourage customers to upgrade the mobile banking application to the latest version. There are, of course, other metrics we could look at, but retention is one of the most important metrics."
   ]
  }
 ],
 "metadata": {
  "kernelspec": {
   "display_name": "Python 3 (ipykernel)",
   "language": "python",
   "name": "python3"
  },
  "language_info": {
   "codemirror_mode": {
    "name": "ipython",
    "version": 3
   },
   "file_extension": ".py",
   "mimetype": "text/x-python",
   "name": "python",
   "nbconvert_exporter": "python",
   "pygments_lexer": "ipython3",
   "version": "3.9.12"
  }
 },
 "nbformat": 4,
 "nbformat_minor": 5
}
